{
 "cells": [
  {
   "cell_type": "markdown",
   "id": "8e4c4570",
   "metadata": {},
   "source": [
    "## **I. Perkenalan**"
   ]
  },
  {
   "cell_type": "markdown",
   "id": "7bade737",
   "metadata": {},
   "source": [
    "Nama  : Elang Cergas Pembrani\n",
    "\n",
    "Notebook ini adalah notebook yang digunakan untuk melakukan uji inference pada model yang sudah dibuat pada notebook [data_modeling.ipynb](./data_modeling_inference)."
   ]
  },
  {
   "cell_type": "markdown",
   "id": "3837e254",
   "metadata": {},
   "source": [
    "## **II. Answer**"
   ]
  },
  {
   "cell_type": "markdown",
   "id": "dfcbef27",
   "metadata": {},
   "source": [
    "### **A. Data Inference**"
   ]
  },
  {
   "cell_type": "markdown",
   "id": "a0186df6",
   "metadata": {},
   "source": [
    "Berikut adalah rincian data inference yang akan dilakukan prediksi credit score menggunakan model terbaik yang sudah dibuat."
   ]
  },
  {
   "cell_type": "markdown",
   "id": "0d9d86a9",
   "metadata": {},
   "source": [
    "|                      Kolom | Value                                                                              |\n",
    "| -------------------------: | ---------------------------------------------------------------------------------- |\n",
    "|                       `id` | `0x1602`                                                                           |\n",
    "|              `customer_id` | `CUS_0xd40`                                                                        |\n",
    "|                    `month` | `January`                                                                          |\n",
    "|                     `name` | `Aaron Maashoh`                                                                    |\n",
    "|                      `age` | `23`                                                                               |\n",
    "|                      `ssn` | `821-00-0265`                                                                      |\n",
    "|               `occupation` | `Scientist`                                                                        |\n",
    "|            `annual_income` | `19114.12`                                                                         |\n",
    "|    `monthly_inhand_salary` | `1824.8434`                                                                        |\n",
    "|       `credit_history_age` | `89`                                                                               |\n",
    "|      `total_emi_per_month` | `49.574947`                                                                        |\n",
    "|        `num_bank_accounts` | `3`                                                                                |\n",
    "|          `num_credit_card` | `4`                                                                                |\n",
    "|            `interest_rate` | `3`                                                                                |\n",
    "|              `num_of_loan` | `4`                                                                                |\n",
    "|             `type_of_loan` | `['Auto Loan', 'Credit-Builder Loan',`<br/>` 'Personal Loan', 'Home Equity Loan']` |\n",
    "|      `delay_from_due_date` | `3`                                                                                |\n",
    "|   `num_of_delayed_payment` | `7`                                                                                |\n",
    "|     `changed_credit_limit` | `11.27`                                                                            |\n",
    "|     `num_credit_inquiries` | `4`                                                                                |\n",
    "|               `credit_mix` | `Good`                                                                             |\n",
    "|         `outstanding_debt` | `809.98`                                                                           |\n",
    "| `credit_utilization_ratio` | `26.82262`                                                                         |\n",
    "|    `payment_of_min_amount` | `No`                                                                               |\n",
    "|  `amount_invested_monthly` | `80.4153`                                                                          |\n",
    "|        `payment_behaviour` | `High_spent_Small_value_payments`                                                  |\n",
    "|          `monthly_balance` | `312.49408`                                                                        |\n"
   ]
  },
  {
   "cell_type": "markdown",
   "id": "267b24d0",
   "metadata": {},
   "source": [
    "### **B. Import Libraries**"
   ]
  },
  {
   "cell_type": "code",
   "execution_count": 1,
   "id": "a39608fd",
   "metadata": {},
   "outputs": [],
   "source": [
    "# import libraries\n",
    "import dill as pickle\n",
    "from ast import literal_eval  # Digunakan oleh fungsi pd_col_list_to_encoded_pre yang diimport\n",
    "import pandas as pd"
   ]
  },
  {
   "cell_type": "markdown",
   "id": "86e58a3e",
   "metadata": {},
   "source": [
    "### **C. Import Model**"
   ]
  },
  {
   "cell_type": "markdown",
   "id": "af6d5596",
   "metadata": {},
   "source": [
    "File yang akan di-import ke dalam notebook ini untuk melakukan prediksi menggunakan model terbaik yang sudah dibuat adalah sebagai berikut:\n",
    "\n",
    "| File                                                       | Format   | Deskripsi                                                 |\n",
    "| ---------------------------------------------------------- | -------- | --------------------------------------------------------- |\n",
    "| [`models_best.pkl`](./models_best.pkl)                       | `dill (pickle)` | Model terbaik yang dipilih |\n",
    "| [`func_pd_col_list_to_encoded_pre.pkl`](./func_pd_col_list_to_encoded_pre.pkl) | `dill (pickle)` | Fungsi dependensi model (feature engineering pipeline) |\n",
    "| [`func_pd_col_list_to_encoded.pkl`](./func_pd_col_list_to_encoded.pkl) | `dill (pickle)` | Fungsi dependensi model (feature engineering pipeline) |\n",
    "| [`func_pd_col_list_to_encoded_type_of_loan.pkl`](./func_pd_col_list_to_encoded_type_of_loan.pkl) | `dill (pickle)` | Fungsi dependensi model (feature engineering pipeline) |"
   ]
  },
  {
   "cell_type": "code",
   "execution_count": 2,
   "id": "cee9d24a",
   "metadata": {},
   "outputs": [],
   "source": [
    "#load model\n",
    "with open('./deployments/src/models_best.pkl', 'rb') as file_1:\n",
    "    model = pickle.load(file_1)\n",
    "\n",
    "# with open('./deployments/src/func_pd_col_list_to_encoded_pre.pkl', 'rb') as file_2:\n",
    "#     pd_col_list_to_encoded_pre = pickle.load(file_2)\n",
    "\n",
    "# with open('./deployments/src/func_pd_col_list_to_encoded.pkl', 'rb') as file_3:\n",
    "#     pd_col_list_to_encoded = pickle.load(file_3)\n",
    "\n",
    "# with open('./deployments/src/func_pd_col_list_to_encoded_type_of_loan.pkl', 'rb') as file_4:\n",
    "#     pd_col_list_to_encoded_type_of_loan = pickle.load(file_4)"
   ]
  },
  {
   "cell_type": "markdown",
   "id": "177ebf7d",
   "metadata": {},
   "source": [
    "### **D. Definisi Data Inference**"
   ]
  },
  {
   "cell_type": "markdown",
   "id": "d1971f85",
   "metadata": {},
   "source": [
    "Data inference ada `2` dalam bentuk `list dictionary`, yang kemudian diubah menjadi _DataFrame_ dengan `2` baris data."
   ]
  },
  {
   "cell_type": "code",
   "execution_count": 3,
   "id": "9924f616",
   "metadata": {},
   "outputs": [
    {
     "data": {
      "text/html": [
       "<div>\n",
       "<style scoped>\n",
       "    .dataframe tbody tr th:only-of-type {\n",
       "        vertical-align: middle;\n",
       "    }\n",
       "\n",
       "    .dataframe tbody tr th {\n",
       "        vertical-align: top;\n",
       "    }\n",
       "\n",
       "    .dataframe thead th {\n",
       "        text-align: right;\n",
       "    }\n",
       "</style>\n",
       "<table border=\"1\" class=\"dataframe\">\n",
       "  <thead>\n",
       "    <tr style=\"text-align: right;\">\n",
       "      <th>id</th>\n",
       "      <th>0x1602</th>\n",
       "    </tr>\n",
       "  </thead>\n",
       "  <tbody>\n",
       "    <tr>\n",
       "      <th>customer_id</th>\n",
       "      <td>CUS_0xd40</td>\n",
       "    </tr>\n",
       "    <tr>\n",
       "      <th>month</th>\n",
       "      <td>January</td>\n",
       "    </tr>\n",
       "    <tr>\n",
       "      <th>name</th>\n",
       "      <td>Aaron Maashoh</td>\n",
       "    </tr>\n",
       "    <tr>\n",
       "      <th>age</th>\n",
       "      <td>23</td>\n",
       "    </tr>\n",
       "    <tr>\n",
       "      <th>ssn</th>\n",
       "      <td>821-00-0265</td>\n",
       "    </tr>\n",
       "    <tr>\n",
       "      <th>occupation</th>\n",
       "      <td>Scientist</td>\n",
       "    </tr>\n",
       "    <tr>\n",
       "      <th>annual_income</th>\n",
       "      <td>19114.12</td>\n",
       "    </tr>\n",
       "    <tr>\n",
       "      <th>monthly_inhand_salary</th>\n",
       "      <td>1824.8434</td>\n",
       "    </tr>\n",
       "    <tr>\n",
       "      <th>credit_history_age</th>\n",
       "      <td>89</td>\n",
       "    </tr>\n",
       "    <tr>\n",
       "      <th>total_emi_per_month</th>\n",
       "      <td>49.574947</td>\n",
       "    </tr>\n",
       "    <tr>\n",
       "      <th>num_bank_accounts</th>\n",
       "      <td>3</td>\n",
       "    </tr>\n",
       "    <tr>\n",
       "      <th>num_credit_card</th>\n",
       "      <td>4</td>\n",
       "    </tr>\n",
       "    <tr>\n",
       "      <th>interest_rate</th>\n",
       "      <td>3</td>\n",
       "    </tr>\n",
       "    <tr>\n",
       "      <th>num_of_loan</th>\n",
       "      <td>4</td>\n",
       "    </tr>\n",
       "    <tr>\n",
       "      <th>type_of_loan</th>\n",
       "      <td>['Auto Loan', 'Credit-Builder Loan', 'Personal...</td>\n",
       "    </tr>\n",
       "    <tr>\n",
       "      <th>delay_from_due_date</th>\n",
       "      <td>3</td>\n",
       "    </tr>\n",
       "    <tr>\n",
       "      <th>num_of_delayed_payment</th>\n",
       "      <td>7</td>\n",
       "    </tr>\n",
       "    <tr>\n",
       "      <th>changed_credit_limit</th>\n",
       "      <td>11.27</td>\n",
       "    </tr>\n",
       "    <tr>\n",
       "      <th>num_credit_inquiries</th>\n",
       "      <td>4</td>\n",
       "    </tr>\n",
       "    <tr>\n",
       "      <th>credit_mix</th>\n",
       "      <td>Good</td>\n",
       "    </tr>\n",
       "    <tr>\n",
       "      <th>outstanding_debt</th>\n",
       "      <td>809.98</td>\n",
       "    </tr>\n",
       "    <tr>\n",
       "      <th>credit_utilization_ratio</th>\n",
       "      <td>26.82262</td>\n",
       "    </tr>\n",
       "    <tr>\n",
       "      <th>payment_of_min_amount</th>\n",
       "      <td>No</td>\n",
       "    </tr>\n",
       "    <tr>\n",
       "      <th>amount_invested_monthly</th>\n",
       "      <td>80.4153</td>\n",
       "    </tr>\n",
       "    <tr>\n",
       "      <th>payment_behaviour</th>\n",
       "      <td>High_spent_Small_value_payments</td>\n",
       "    </tr>\n",
       "    <tr>\n",
       "      <th>monthly_balance</th>\n",
       "      <td>312.49408</td>\n",
       "    </tr>\n",
       "  </tbody>\n",
       "</table>\n",
       "</div>"
      ],
      "text/plain": [
       "id                                                                   0x1602\n",
       "customer_id                                                       CUS_0xd40\n",
       "month                                                               January\n",
       "name                                                          Aaron Maashoh\n",
       "age                                                                      23\n",
       "ssn                                                             821-00-0265\n",
       "occupation                                                        Scientist\n",
       "annual_income                                                      19114.12\n",
       "monthly_inhand_salary                                             1824.8434\n",
       "credit_history_age                                                       89\n",
       "total_emi_per_month                                               49.574947\n",
       "num_bank_accounts                                                         3\n",
       "num_credit_card                                                           4\n",
       "interest_rate                                                             3\n",
       "num_of_loan                                                               4\n",
       "type_of_loan              ['Auto Loan', 'Credit-Builder Loan', 'Personal...\n",
       "delay_from_due_date                                                       3\n",
       "num_of_delayed_payment                                                    7\n",
       "changed_credit_limit                                                  11.27\n",
       "num_credit_inquiries                                                      4\n",
       "credit_mix                                                             Good\n",
       "outstanding_debt                                                     809.98\n",
       "credit_utilization_ratio                                           26.82262\n",
       "payment_of_min_amount                                                    No\n",
       "amount_invested_monthly                                             80.4153\n",
       "payment_behaviour                           High_spent_Small_value_payments\n",
       "monthly_balance                                                   312.49408"
      ]
     },
     "execution_count": 3,
     "metadata": {},
     "output_type": "execute_result"
    }
   ],
   "source": [
    "data_inf_list = [\n",
    "    # User 1\n",
    "    {\n",
    "        'id': '0x1602',\n",
    "        'customer_id': 'CUS_0xd40',\n",
    "        'month': 'January',\n",
    "        'name': 'Aaron Maashoh',\n",
    "        'age': 23,\n",
    "        'ssn': '821-00-0265',\n",
    "        'occupation': 'Scientist',\n",
    "        'annual_income': 19114.12,\n",
    "        'monthly_inhand_salary': 1824.8434,\n",
    "        'credit_history_age': 89,\n",
    "        'total_emi_per_month': 49.574947,\n",
    "        'num_bank_accounts': 3,\n",
    "        'num_credit_card': 4,\n",
    "        'interest_rate': 3,\n",
    "        'num_of_loan': 4,\n",
    "        'type_of_loan': \"['Auto Loan', 'Credit-Builder Loan', 'Personal Loan', 'Home Equity Loan']\",\n",
    "        'delay_from_due_date': 3,\n",
    "        'num_of_delayed_payment': 7,\n",
    "        'changed_credit_limit': 11.27,\n",
    "        'num_credit_inquiries': 4,\n",
    "        'credit_mix': 'Good',\n",
    "        'outstanding_debt': 809.98,\n",
    "        'credit_utilization_ratio': 26.82262,\n",
    "        'payment_of_min_amount': 'No',\n",
    "        'amount_invested_monthly': 80.4153,\n",
    "        'payment_behaviour': 'High_spent_Small_value_payments',\n",
    "        'monthly_balance': 312.49408,\n",
    "    }\n",
    "]\n",
    "\n",
    "data_inf = pd.DataFrame(data_inf_list)\n",
    "data_inf = data_inf.set_index('id')\n",
    "data_inf.T"
   ]
  },
  {
   "cell_type": "markdown",
   "id": "7f92e83d",
   "metadata": {},
   "source": [
    "### **E. Proses Prediksi**"
   ]
  },
  {
   "cell_type": "markdown",
   "id": "7721c0e6",
   "metadata": {},
   "source": [
    "Proses prediksi harga cukup dengan memanggil method `predict()` pada model yang sudah dibuat."
   ]
  },
  {
   "cell_type": "code",
   "execution_count": 4,
   "id": "1453e26e",
   "metadata": {},
   "outputs": [
    {
     "data": {
      "text/html": [
       "<div>\n",
       "<style scoped>\n",
       "    .dataframe tbody tr th:only-of-type {\n",
       "        vertical-align: middle;\n",
       "    }\n",
       "\n",
       "    .dataframe tbody tr th {\n",
       "        vertical-align: top;\n",
       "    }\n",
       "\n",
       "    .dataframe thead th {\n",
       "        text-align: right;\n",
       "    }\n",
       "</style>\n",
       "<table border=\"1\" class=\"dataframe\">\n",
       "  <thead>\n",
       "    <tr style=\"text-align: right;\">\n",
       "      <th></th>\n",
       "      <th>predict</th>\n",
       "    </tr>\n",
       "    <tr>\n",
       "      <th>id</th>\n",
       "      <th></th>\n",
       "    </tr>\n",
       "  </thead>\n",
       "  <tbody>\n",
       "    <tr>\n",
       "      <th>0x1602</th>\n",
       "      <td>1</td>\n",
       "    </tr>\n",
       "  </tbody>\n",
       "</table>\n",
       "</div>"
      ],
      "text/plain": [
       "       predict\n",
       "id            \n",
       "0x1602       1"
      ]
     },
     "metadata": {},
     "output_type": "display_data"
    }
   ],
   "source": [
    "y_pred_inf = model.predict(data_inf)\n",
    "\n",
    "data_inf_result = data_inf.copy()\n",
    "data_inf_result['predict'] = y_pred_inf\n",
    "\n",
    "display(data_inf_result[['predict']])"
   ]
  },
  {
   "cell_type": "markdown",
   "id": "15800b4f",
   "metadata": {},
   "source": [
    "### **F. Kesimpulan**"
   ]
  },
  {
   "cell_type": "markdown",
   "id": "b5eb4b34",
   "metadata": {},
   "source": [
    "> Dari hasil di atas, terlihat bahwa hasil prediksi menggunakan model terbaik adalah `1` _Standard Credit Score_."
   ]
  }
 ],
 "metadata": {
  "kernelspec": {
   "display_name": "base",
   "language": "python",
   "name": "python3"
  },
  "language_info": {
   "codemirror_mode": {
    "name": "ipython",
    "version": 3
   },
   "file_extension": ".py",
   "mimetype": "text/x-python",
   "name": "python",
   "nbconvert_exporter": "python",
   "pygments_lexer": "ipython3",
   "version": "3.12.3"
  }
 },
 "nbformat": 4,
 "nbformat_minor": 5
}
